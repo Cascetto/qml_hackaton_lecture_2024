{
 "cells": [
  {
   "cell_type": "markdown",
   "metadata": {
    "id": "5mVNhYAobDfR"
   },
   "source": [
    "# Environment set up and Imports"
   ]
  },
  {
   "cell_type": "code",
   "execution_count": null,
   "metadata": {
    "colab": {
     "base_uri": "https://localhost:8080/"
    },
    "id": "k0hpG4K5bDfV",
    "outputId": "d861c5b2-ccc7-4c1c-a520-985873035ef6",
    "vscode": {
     "languageId": "shellscript"
    }
   },
   "outputs": [],
   "source": [
    "pip install torch pandas numpy pennylane pennylane-lightning redis matplotlib tqdm scikit-learn"
   ]
  },
  {
   "cell_type": "code",
   "execution_count": null,
   "metadata": {
    "colab": {
     "base_uri": "https://localhost:8080/"
    },
    "id": "8quztIVCbDfX",
    "outputId": "4c15abb5-7b62-40eb-b6f6-9338687d22f4"
   },
   "outputs": [],
   "source": [
    "!wget 'https://drive.google.com/uc?export=download&id=1rZSIGTcLE5gPt-0nliQTPIZJ0-RtXLU_' -O particolato.csv\n",
    "!wget 'https://drive.google.com/uc?export=download&id=1z8nOfTyVg1hhpapVRC2egEucIkcQwXl4' -O toy_dataset_features.npy\n",
    "!wget 'https://drive.google.com/uc?export=download&id=1CYAaNT927vkkoJyimhf-s0_Jr98cdYi6' -O toy_dataset_labels.npy"
   ]
  },
  {
   "cell_type": "code",
   "execution_count": null,
   "metadata": {},
   "outputs": [],
   "source": [
    "!curl -L 'https://drive.google.com/uc?export=download&id=1rZSIGTcLE5gPt-0nliQTPIZJ0-RtXLU_' > particolato.csv\n",
    "!curl -L 'https://drive.google.com/uc?export=download&id=1z8nOfTyVg1hhpapVRC2egEucIkcQwXl4' > toy_dataset_features.npy\n",
    "!curl -L 'https://drive.google.com/uc?export=download&id=1CYAaNT927vkkoJyimhf-s0_Jr98cdYi6' -o toy_dataset_labels.npy"
   ]
  },
  {
   "cell_type": "code",
   "execution_count": null,
   "metadata": {
    "id": "VX9ifPW5bDfY"
   },
   "outputs": [],
   "source": [
    "import torch\n",
    "from typing import Tuple\n",
    "from torch.utils.data import TensorDataset, random_split, Dataset\n",
    "import pandas as pd\n",
    "import torch.optim as optim\n",
    "import torch.nn.functional as F\n",
    "import numpy as np\n",
    "import torch.nn as nn\n",
    "import pennylane as qml\n",
    "import matplotlib.pyplot as plt\n",
    "from tqdm import tqdm\n",
    "from torch.utils.data import DataLoader\n",
    "from sklearn.decomposition import PCA\n",
    "from sklearn.manifold import TSNE\n",
    "from sklearn.discriminant_analysis import LinearDiscriminantAnalysis as LDA\n",
    "import matplotlib.pyplot as plt\n",
    "import redis"
   ]
  },
  {
   "cell_type": "markdown",
   "metadata": {
    "id": "tq_9BSrabDfZ"
   },
   "source": [
    "# Utility Functions"
   ]
  },
  {
   "cell_type": "markdown",
   "metadata": {
    "id": "WvkzLoxxBtuD"
   },
   "source": [
    "## Data transforms"
   ]
  },
  {
   "cell_type": "code",
   "execution_count": null,
   "metadata": {
    "id": "wTjqKN6nBtGM"
   },
   "outputs": [],
   "source": [
    "def atan_transform(X: torch.Tensor) -> torch.Tensor:\n",
    "    return torch.atan(X)\n",
    "\n",
    "def normalize_transform(X: torch.Tensor) -> torch.Tensor:\n",
    "    return (X - X.mean(dim=0)) / X.std(dim=0)\n",
    "\n",
    "def unit_vector_transform(X: torch.Tensor) -> torch.Tensor:\n",
    "    if len(X.shape) == 1:\n",
    "        raise ValueError(\"Unit vector transform requires at least a 2D tensor\")\n",
    "    return X / X.norm(dim=-1).unsqueeze(-1)\n",
    "\n",
    "def log_transform(X: torch.Tensor) -> torch.Tensor:\n",
    "    return torch.log(X)"
   ]
  },
  {
   "cell_type": "markdown",
   "metadata": {
    "id": "Ljov5lHFBq0l"
   },
   "source": [
    "## Dataset retrieval"
   ]
  },
  {
   "cell_type": "code",
   "execution_count": null,
   "metadata": {
    "id": "NSL0YV5DbDfa"
   },
   "outputs": [],
   "source": [
    "\n",
    "PARTITIONS = [0.68, 0.16, 0.16]\n",
    "\n",
    "def get_sine_datasets(split: bool = False, feature_transformations: list[callable] = [], label_transformations: list[callable] = []) -> Tuple[TensorDataset, TensorDataset, TensorDataset]:\n",
    "    X = torch.linspace(-4 * torch.pi, 4 * torch.pi, 3000)\n",
    "    Y = torch.sin(X)\n",
    "    for transform in feature_transformations:\n",
    "        X = transform(X)\n",
    "    X = X.unsqueeze(-1)\n",
    "    for transform in label_transformations:\n",
    "        Y = transform(Y)\n",
    "    dataset = TensorDataset(X, Y)\n",
    "    return random_split(dataset, PARTITIONS) if split else dataset\n",
    "\n",
    "def get_toy_classification_datasets(split: bool = False, feature_transformations: list[callable] = [], label_transformations: list[callable] = []):\n",
    "    X, Y = np.load('toy_dataset_features.npy'), np.load('toy_dataset_labels.npy')\n",
    "    X, Y = torch.tensor(X, dtype=torch.float32), torch.tensor(Y, dtype=torch.float32)\n",
    "    for transform in feature_transformations:\n",
    "        X = transform(X)\n",
    "    for transform in label_transformations:\n",
    "        Y = transform(Y)\n",
    "    dataset = TensorDataset(X, Y)\n",
    "    return random_split(dataset, PARTITIONS) if split else dataset\n",
    "\n",
    "def get_pollution_datasets(split: bool = False, feature_transformations: list[callable] = [], label_transformations: list[callable] = []):\n",
    "    dataframe = pd.read_csv('particolato.csv').drop(columns=['Time'], axis=1).dropna()\n",
    "    X = torch.tensor(dataframe[[\"sensors.humidity\", \"sensors.pm10\"]].values, dtype=torch.float32)\n",
    "    Y = torch.tensor(dataframe[\"sensors.pm25\"].values, dtype=torch.float32)\n",
    "    for transform in feature_transformations:\n",
    "        X = transform(X)\n",
    "    for transform in label_transformations:\n",
    "        Y = transform(Y)\n",
    "    dataset = TensorDataset(X, Y)\n",
    "    return random_split(dataset, PARTITIONS) if split else dataset"
   ]
  },
  {
   "cell_type": "code",
   "execution_count": null,
   "metadata": {
    "id": "VPCXhbcFbDfb"
   },
   "outputs": [],
   "source": [
    "def get_dataloader(datasets: list[Dataset], batch_size: int = 32) -> list[DataLoader]:\n",
    "    return [DataLoader(dataset, batch_size=batch_size, shuffle=True) for dataset in datasets]"
   ]
  },
  {
   "cell_type": "markdown",
   "metadata": {
    "id": "OBIp1zeAbDfb"
   },
   "source": [
    "## Data Plotting"
   ]
  },
  {
   "cell_type": "code",
   "execution_count": null,
   "metadata": {
    "id": "AZBDklKYbDfc"
   },
   "outputs": [],
   "source": [
    "def plot(dataset: TensorDataset, colorbar: bool = False, ax=None):\n",
    "    X, Y = dataset[:]\n",
    "    # plot\n",
    "    if ax is not None:\n",
    "        ax.set_title('Standard Plot')\n",
    "        heatmap = ax.scatter(X[:, 0], X[:, 1], c=Y, cmap='viridis')\n",
    "        if colorbar:\n",
    "            # add colorbar to the plot in function of Y\n",
    "            cbar = plt.colorbar(heatmap)\n",
    "            cbar.set_label('Label')\n",
    "        return ax\n",
    "    else:\n",
    "        plt.title('PCA')\n",
    "        heatmap = plt.scatter(X[:, 0], X[:, 1], c=Y, cmap='viridis')\n",
    "        if colorbar:\n",
    "            # add colorbar to the plot in function of Y\n",
    "            cbar = plt.colorbar(heatmap)\n",
    "            cbar.set_label('Valore di PM2.5')\n",
    "        plt.show()\n",
    "\n",
    "def pca_plot(dataset: TensorDataset, colorbar: bool = False, ax=None):\n",
    "\n",
    "    X, Y = dataset[:]\n",
    "    # apply PCA\n",
    "    pca = PCA(n_components=2)\n",
    "    X_fitted = pca.fit_transform(X)\n",
    "    # plot\n",
    "    if ax is not None:\n",
    "        ax.set_title('PCA')\n",
    "        heatmap = ax.scatter(X_fitted[:, 0], X_fitted[:, 1], c=Y, cmap='viridis')\n",
    "        if colorbar:\n",
    "            # add colorbar to the plot in function of Y\n",
    "            cbar = plt.colorbar(heatmap)\n",
    "            cbar.set_label('Label')\n",
    "        return ax\n",
    "    else:\n",
    "        plt.title('PCA')\n",
    "        heatmap = plt.scatter(X_fitted[:, 0], X_fitted[:, 1], c=Y, cmap='viridis')\n",
    "        if colorbar:\n",
    "            # add colorbar to the plot in function of Y\n",
    "            cbar = plt.colorbar(heatmap)\n",
    "            cbar.set_label('Valore di PM2.5')\n",
    "        plt.show()\n",
    "\n",
    "def lda_plot(dataset: TensorDataset, ax=None):\n",
    "    X, Y = dataset[:]\n",
    "    # apply PCA\n",
    "    lda = LDA(n_components=1)\n",
    "    X_fitted = lda.fit_transform(X, Y)\n",
    "    # plot\n",
    "    if ax is not None:\n",
    "        ax.set_title('LDA - Nota: è una proiezione 1D, \\nla seconda dimensione è fittizia per aiutare la visualizzazione')\n",
    "        ax.scatter(X_fitted[:, 0], X[:, 0], c=Y, alpha=0.5, cmap='copper')\n",
    "        ax.hlines(0, X_fitted.min(), X_fitted.max(), color='red', linestyle='--', label='Linea di vera proiezione di LDA')\n",
    "        ax.legend()\n",
    "        return ax\n",
    "    else:\n",
    "        plt.title('LDA')\n",
    "        plt.scatter(X_fitted[:, 0], X[:, 0], c=Y, cmap='copper')\n",
    "        plt.hlines(0, X_fitted.min(), X_fitted.max(), color='red', linestyle='--', label='Linea di vera proiezione di LDA')\n",
    "        plt.legend()\n",
    "        plt.show()\n",
    "\n",
    "def tsne_plot(dataset: TensorDataset, ax=None, colorbar: bool = False):\n",
    "\n",
    "    X, Y = dataset[:]\n",
    "    # apply PCA\n",
    "    tsne = TSNE(n_components=2)\n",
    "    X_fitted = tsne.fit_transform(X, Y)\n",
    "    # plot\n",
    "    if ax is not None:\n",
    "        ax.set_title('t-SNE')\n",
    "        heatmap = ax.scatter(X_fitted[:, 0], X_fitted[:, 1], c=Y, cmap='coolwarm')\n",
    "        if colorbar:\n",
    "            # add colorbar to the plot in function of Y\n",
    "            cbar = plt.colorbar(heatmap)\n",
    "            cbar.set_label('Label value')\n",
    "        return ax\n",
    "    else:\n",
    "        plt.title('t-SNE')\n",
    "        heatmap = plt.scatter(X_fitted[:, 0], X_fitted[:, 1], c=Y, cmap='coolwarm')\n",
    "        if colorbar:\n",
    "            # add colorbar to the plot in function of Y\n",
    "            cbar = plt.colorbar(heatmap)\n",
    "            cbar.set_label('Label value')\n",
    "        plt.show()\n",
    "\n",
    "def custom_plot(dataset: TensorDataset, projector_object, ax=None, **projector_args):\n",
    "\n",
    "    X, Y = dataset[:]\n",
    "    # apply PCA\n",
    "    projector = projector_object(**projector_args)\n",
    "    X_fitted = projector.fit_transform(X, Y)\n",
    "    # plot\n",
    "    if ax is not None:\n",
    "        ax.set_title('Custom')\n",
    "        ax.scatter(X_fitted[:, 0], X_fitted[:, 1], c=Y, cmap='Spectral')\n",
    "        return ax\n",
    "    else:\n",
    "        plt.title('Custom')\n",
    "        plt.scatter(X_fitted[:, 0], X_fitted[:, 1], c=Y, cmap='Spectral')\n",
    "        plt.show()"
   ]
  },
  {
   "cell_type": "markdown",
   "metadata": {
    "id": "agLy4oJ6bDfe"
   },
   "source": [
    "## Training template"
   ]
  },
  {
   "cell_type": "code",
   "execution_count": null,
   "metadata": {
    "id": "mpGp6HpXbDfe"
   },
   "outputs": [],
   "source": [
    "def training_step(model, optimizer, criterion, compute_accuracy, x, y):\n",
    "    optimizer.zero_grad()\n",
    "    y_pred = model(x)\n",
    "    loss = criterion(y_pred, y)\n",
    "    loss.backward()\n",
    "    optimizer.step()\n",
    "    accuracy = ((y_pred > 0.5) == y).float().mean() * x.shape[0] if compute_accuracy else -1\n",
    "    return loss.item() * x.shape[0], accuracy\n",
    "\n",
    "def training_loop(model, epoch, optimizer, criterion, compute_accuracy, train_loader, epochs):\n",
    "    model.train()\n",
    "    traning_loss = 0\n",
    "    training_accuracy = 0\n",
    "    for x, y in tqdm(train_loader, desc=f'Epoch {epoch+1}/{epochs}', total=len(train_loader), leave=False):\n",
    "        loss, acc = training_step(model, optimizer, criterion, compute_accuracy, x, y)\n",
    "        traning_loss += loss\n",
    "        training_accuracy += acc\n",
    "    return traning_loss / len(train_loader.dataset), training_accuracy / len(train_loader.dataset)\n",
    "\n",
    "def validation_step(model, criterion, compute_accuracy, x, y):\n",
    "    y_pred = model(x)\n",
    "    loss = criterion(y_pred, y)\n",
    "    accuracy = ((y_pred > 0.5) == y).float().mean() * x.shape[0] if compute_accuracy else -1\n",
    "    return loss.item() * x.shape[0], accuracy\n",
    "\n",
    "@torch.no_grad()\n",
    "def validation_loop(model, criterion, compute_accuracy, dataloader):\n",
    "    model.eval()\n",
    "    validation_loss = 0\n",
    "    validation_accuracy = 0\n",
    "    for x, y in tqdm(dataloader, desc='Validation', total=len(dataloader), leave=False):\n",
    "        loss, acc = validation_step(model, criterion, compute_accuracy, x, y)\n",
    "        validation_loss += loss\n",
    "        validation_accuracy += acc\n",
    "    return validation_loss / len(dataloader.dataset), validation_accuracy / len(dataloader.dataset)\n",
    "\n",
    "def train_model(model, optimizer, criterion, compute_accuracy, train_loader, val_loader, test_loader, epochs, validation_frequency = 1):\n",
    "    train_losses = []\n",
    "    val_losses = []\n",
    "    train_accuracies = []\n",
    "    val_accuracies = []\n",
    "    for epoch in range(epochs):\n",
    "        train_loss, train_accuracy = training_loop(model, epoch, optimizer, criterion, compute_accuracy, train_loader, epochs)\n",
    "        if (epoch+1) % validation_frequency == 0:\n",
    "            val_loss, val_accuracy = validation_loop(model, criterion, compute_accuracy, val_loader)\n",
    "            train_losses.append(train_loss)\n",
    "            val_losses.append(val_loss)\n",
    "            train_accuracies.append(train_accuracy)\n",
    "            val_accuracies.append(val_accuracy)\n",
    "            print(f'Epoch {epoch+1}/{epochs} - Train Loss: {train_loss:.4f} - Val Loss: {val_loss:.4f}' + (f' - Train Accuracy: {train_accuracy:.4f} - Val Accuracy: {val_accuracy:.4f}' if compute_accuracy else ''))\n",
    "    test_loss, test_accuracy = validation_loop(model, criterion, compute_accuracy, test_loader)\n",
    "    print(f'Test Loss: {test_loss:.4f}' + (f' - Test Accuracy: {test_accuracy:.4f}' if compute_accuracy else ''))\n",
    "    return train_losses, val_losses, train_accuracies, val_accuracies, test_loss, test_accuracy"
   ]
  },
  {
   "cell_type": "markdown",
   "metadata": {
    "id": "-kcGWT-KbDfe"
   },
   "source": [
    "## Training summary plot"
   ]
  },
  {
   "cell_type": "code",
   "execution_count": null,
   "metadata": {
    "id": "wL2yxLzXbDfe"
   },
   "outputs": [],
   "source": [
    "def plot_results(train_losses, val_losses, train_accuracies, val_accuracies, test_loss, test_accuracy, validation_frequency, compute_accuracy):\n",
    "    x_axis = list(range(0, len(train_losses) * validation_frequency, validation_frequency))\n",
    "    if compute_accuracy:\n",
    "        fig, ax = plt.subplots(1, 2, figsize=(16, 6))\n",
    "        ax[0].plot(x_axis, train_losses, 'b-', label='Train Loss')\n",
    "        ax[0].plot(x_axis, val_losses, 'r-', label='Val Loss')\n",
    "        ax[0].hlines(test_loss, 0, x_axis[-1], 'g', label='Test Loss')\n",
    "        ax[0].set_title('Loss')\n",
    "        ax[0].set_xlabel('Epochs')\n",
    "        ax[0].set_ylabel('Loss')\n",
    "        ax[0].legend()\n",
    "\n",
    "\n",
    "        ax[1].plot(x_axis, train_accuracies, label='Train Accuracy')\n",
    "        ax[1].plot(x_axis, val_accuracies, label='Val Accuracy')\n",
    "        ax[1].hlines(test_accuracy, 0, x_axis[-1], 'g', label='Test Accuracy')\n",
    "        ax[1].set_title('Accuracy')\n",
    "        ax[1].set_xlabel('Epochs')\n",
    "        ax[1].set_ylabel('Accuracy')\n",
    "        ax[1].legend()\n",
    "        fig.show()\n",
    "    else:\n",
    "        fig, ax = plt.subplots(1, 1, figsize=(16, 6))\n",
    "        ax.plot(x_axis, train_losses, 'b-', label='Train Loss')\n",
    "        ax.plot(x_axis, val_losses, 'r-', label='Val Loss')\n",
    "        ax.hlines(test_loss, 0, x_axis[-1], 'g', label='Test Loss')\n",
    "        ax.set_title('Loss')\n",
    "        ax.set_xlabel('Epochs')\n",
    "        ax.set_ylabel('Loss')\n",
    "        ax.legend()\n",
    "        fig.show()\n"
   ]
  },
  {
   "cell_type": "markdown",
   "metadata": {
    "id": "aL4UQosKbDff"
   },
   "source": [
    "## Scoring Utility"
   ]
  },
  {
   "cell_type": "code",
   "execution_count": null,
   "metadata": {
    "id": "cuJPh5TMbDff"
   },
   "outputs": [],
   "source": [
    "def get_grader():\n",
    "    r = redis.Redis(\n",
    "    host='redis-19795.c275.us-east-1-4.ec2.redns.redis-cloud.com',\n",
    "    port=19795,\n",
    "    password='HZVxgGIOtp4DR8LeFmKY2LHHa1rPzCRr')\n",
    "    return r\n",
    "\n",
    "class ScoreTracker:\n",
    "\n",
    "    def __init__(self, team_name):\n",
    "        self.team_name = team_name\n",
    "        self.redis_client = get_grader()\n",
    "\n",
    "    def _update_score(self, sset_name, player, points, lt=True):\n",
    "        self.redis_client.zadd(f'{sset_name}_leaderboard', {player: points}, lt=lt)\n",
    "        score = self.redis_client.zscore(f'{sset_name}_leaderboard', player)\n",
    "        self.redis_client.publish(f'{sset_name}_updates', f'{player}: {score}')\n",
    "\n",
    "    def update_sine_score(self, score):\n",
    "        self._update_score(sset_name='sine', player=self.team_name, points=score, lt=True)\n",
    "\n",
    "    def update_classification_score(self, score):\n",
    "        self._update_score(sset_name='classification', player=self.team_name, points=score, lt=False)\n",
    "\n",
    "    def update_pm_score(self, score):\n",
    "        self._update_score(sset_name='pm', player=self.team_name, points=score, lt=True)"
   ]
  },
  {
   "cell_type": "markdown",
   "metadata": {
    "id": "g7bajo41bDff"
   },
   "source": [
    "# Datasets overview\n",
    "## Sine Dataset\n",
    "Just the dataset containing $f(x)=\\sin x, \\forall x \\in \\left[-4\\pi, 4\\pi\\right]$"
   ]
  },
  {
   "cell_type": "code",
   "execution_count": null,
   "metadata": {
    "colab": {
     "base_uri": "https://localhost:8080/",
     "height": 430
    },
    "id": "6fPTIuxvbDfg",
    "outputId": "4448309d-6c28-4506-9e09-935c0e8a9731"
   },
   "outputs": [],
   "source": [
    "sine_dataset = get_sine_datasets()\n",
    "x, sinx = sine_dataset[:]\n",
    "plt.plot(x, sinx)\n",
    "plt.show()"
   ]
  },
  {
   "cell_type": "markdown",
   "metadata": {
    "id": "kYT_wDRDbDfg"
   },
   "source": [
    "## Toy Classification\n",
    "A dataset generated using the \\verb|scikit-learn| utility `make_classification`, where some of the features are redundant. It may help to learn a representation of the data before processing it."
   ]
  },
  {
   "cell_type": "code",
   "execution_count": null,
   "metadata": {
    "colab": {
     "base_uri": "https://localhost:8080/",
     "height": 504
    },
    "id": "R4ewy1ivbDfg",
    "outputId": "7bc34d0b-efc5-4b87-fea6-cbf4ca74481d"
   },
   "outputs": [],
   "source": [
    "fig, axes = plt.subplots(1, 3, figsize=(15, 7))\n",
    "ds = get_toy_classification_datasets(split=False)\n",
    "axes[0] = tsne_plot(ds, ax=axes[0])\n",
    "axes[2] = lda_plot(ds, ax=axes[2])\n",
    "axes[1] = pca_plot(ds, ax=axes[1])\n",
    "fig.show()"
   ]
  },
  {
   "cell_type": "markdown",
   "metadata": {
    "id": "tRw_xRt_bDfh"
   },
   "source": [
    "## Particulate Dataset\n",
    "This dataset contains samples from the city of Cagliari about the pollution present in the city, the task is to predict the level of small particlate matter (PM2.5) using only the data about humidity and the concentration of large particulate matter (PM10)."
   ]
  },
  {
   "cell_type": "code",
   "execution_count": null,
   "metadata": {
    "colab": {
     "base_uri": "https://localhost:8080/",
     "height": 54
    },
    "id": "h-X2Px7FbDfi",
    "outputId": "2e8a8191-c764-4c4c-8bd2-81f66d444462"
   },
   "outputs": [],
   "source": [
    "pollution = get_pollution_datasets(label_transformations=[log_transform], split=False)\n",
    "fig, axes = plt.subplots(1, 3, figsize=(15, 7))\n",
    "axes[0] = plot(pollution, ax=axes[0], colorbar=True)\n",
    "axes[1] = pca_plot(pollution, ax=axes[1], colorbar=True)\n",
    "axes[2] = tsne_plot(pollution, ax=axes[2], colorbar=True)\n",
    "fig.show()"
   ]
  },
  {
   "cell_type": "markdown",
   "metadata": {
    "id": "cVO69H8MbDfi"
   },
   "source": [
    "# Building Quantum Circuit with Pennylane\n",
    "Pennylane circuit executions revolves around the concept of the Quantun Node (`QNODE`) object, that can be seen as the couple **quantum device** + **circuit function**\n",
    "\n",
    "## Pennylane devices\n",
    "The object `qml.device(name=DEVICE_NAME, wires=NUMBER_OF_QUBITS)` defines where the circuit is executed or simulated, and some other settings (e.g. number of shots). Some examples of quantum devices are:\n",
    "+ `'default.qubit'`: Pennylane default simulator.\n",
    "+ `'lightning.qubit'`: Pennylane-Lightning simulator, usually faster than `'default.qubit'`\n",
    "+ `'default.mixed'`: Pennylane noise-enabled simulator.\n",
    "+ `'qiskit.remote'`: IBM Quantum interface for using real hardware (not installed in this notebook)"
   ]
  },
  {
   "cell_type": "code",
   "execution_count": null,
   "metadata": {
    "id": "MdYkNHULrzR5"
   },
   "outputs": [],
   "source": [
    "default_device = qml.device('default.qubit', wires=2, shots=2048)\n",
    "lightning_device = qml.device('lightning.qubit', wires=2, shots=2048)"
   ]
  },
  {
   "cell_type": "markdown",
   "metadata": {
    "id": "MwyAIc93sSCF"
   },
   "source": [
    "## Circuit Functions\n",
    "Circuit functions defines the ordering of quantum gates to be applied to a given device. The circuit for creating the bell state $\\lvert \\psi> = \\frac{\\lvert 00>+\\lvert 11>}{\\sqrt 2}$ is the following."
   ]
  },
  {
   "cell_type": "code",
   "execution_count": null,
   "metadata": {
    "id": "3Ut2diNDsRSM"
   },
   "outputs": [],
   "source": [
    "def bell_state():\n",
    "  qml.Hadamard(wires=0)\n",
    "  qml.CNOT(wires=[0, 1]) # first index is the controller\n",
    "  return qml.probs() # return the probability of each state"
   ]
  },
  {
   "cell_type": "markdown",
   "metadata": {
    "id": "V0wP-pegtSS4"
   },
   "source": [
    "## Quantum Node\n",
    "The quantum node is the actual object that can be executed in order to perform the computations, and can be defined in two ways:\n",
    "+ With the constructor `qml.QNode(CIRCUIT_FUNCTION, QUANTUM_DEVICE)`\n",
    "+ Using the decorator `@qml.device(QUANTUM_DEVICE)` in the circuit function definition\n",
    "\n",
    "The circuit associated with a QNode can be plotted using the function `qml.draw` (plain text) and `qml.draw_mpl` (using matplotlib)"
   ]
  },
  {
   "cell_type": "code",
   "execution_count": null,
   "metadata": {
    "id": "SSPZffmet0dM"
   },
   "outputs": [],
   "source": [
    "default_qnode = qml.QNode(bell_state, default_device)\n",
    "\n",
    "@qml.qnode(lightning_device)\n",
    "def lightning_qnode():\n",
    "  qml.Hadamard(wires=0)\n",
    "  qml.CNOT(wires=[0, 1])\n",
    "  return qml.probs()"
   ]
  },
  {
   "cell_type": "code",
   "execution_count": null,
   "metadata": {
    "colab": {
     "base_uri": "https://localhost:8080/"
    },
    "id": "jsIs1K93uKvA",
    "outputId": "eca67801-d404-4994-fc0e-481e42f5ed1e"
   },
   "outputs": [],
   "source": [
    "print(default_qnode())\n",
    "print(lightning_qnode())"
   ]
  },
  {
   "cell_type": "code",
   "execution_count": null,
   "metadata": {
    "colab": {
     "base_uri": "https://localhost:8080/"
    },
    "id": "okss-m-fyi5L",
    "outputId": "040db850-5782-4de0-f874-bd71a5c5d580"
   },
   "outputs": [],
   "source": [
    "print(qml.draw(default_qnode)()) # the syntax is qml.draw(qnode)(qnode_arguments)"
   ]
  },
  {
   "cell_type": "code",
   "execution_count": null,
   "metadata": {
    "colab": {
     "base_uri": "https://localhost:8080/",
     "height": 354
    },
    "id": "C-n6gRzCywov",
    "outputId": "11c6b284-1dd0-4a5f-8736-d709db22996d"
   },
   "outputs": [],
   "source": [
    "qml.draw_mpl(lightning_qnode)()"
   ]
  },
  {
   "cell_type": "markdown",
   "metadata": {
    "id": "DGc-8eOIvRsV"
   },
   "source": [
    "## Quantum NN Layer\n",
    "Pennylane provides the method `qml.qnn.TorchLayer` for creating a `pytorch` compatible layer: it requires two argument, a `QNODE` object that have the parameter `inputs` in its circuit function defintion and a dictionary containing the shape of every other parameters of the circuit, that will be treated as learnable parameter.\n",
    "\n",
    "For example if we want a 2 circuit that learns an arbitrary pauli rotation and perform a controlled learnable pauli X rotation after performaing the Angle Embedding:"
   ]
  },
  {
   "cell_type": "code",
   "execution_count": null,
   "metadata": {
    "colab": {
     "base_uri": "https://localhost:8080/",
     "height": 354
    },
    "id": "4AKiQbwbv5dc",
    "outputId": "89156c9f-0163-49da-cb15-6c95aa9d9d37"
   },
   "outputs": [],
   "source": [
    "@qml.qnode(lightning_device, interface='torch') # use torch.Tensor as outputs and inputs\n",
    "def circuit_function(inputs, rotations, controlled_rotation):\n",
    "  qml.templates.AngleEmbedding(inputs, wires=[0, 1])\n",
    "  qml.Rot(*rotations[0], wires=0) # compact version\n",
    "  qml.Rot(rotations[1, 0], rotations[1, 1], rotations[1, 2], wires=1) # long version\n",
    "  qml.CRX(controlled_rotation, wires=[0, 1])\n",
    "  return qml.expval(qml.Z(wires=0)) # retorun the Z expectation value of the first qubit\n",
    "\n",
    "weight_dict = { 'rotations': (2, 3), 'controlled_rotation': 1 }\n",
    "\n",
    "qnn = qml.qnn.TorchLayer(circuit_function, weight_dict)\n",
    "# print(qml.draw(circuit_function)(torch.zeros(2), torch.zeros(weight_dict['rotations']), torch.zeros(weight_dict['controlled_rotation'])))\n",
    "qml.draw_mpl(circuit_function)(torch.zeros(2), torch.zeros(weight_dict['rotations']), torch.zeros(weight_dict['controlled_rotation']))\n",
    "plt.show()\n",
    "qnn(torch.zeros(2))"
   ]
  },
  {
   "cell_type": "markdown",
   "metadata": {
    "id": "3P7NqupubDfj"
   },
   "source": [
    "# Exercises"
   ]
  },
  {
   "cell_type": "markdown",
   "metadata": {
    "id": "RM3Emo7nBkVO"
   },
   "source": [
    "\n",
    "## Exercise 1: `sine` dataset\n",
    "The goal is to reduce the Mean Square Error (MSE) as much as possbile"
   ]
  },
  {
   "cell_type": "code",
   "execution_count": null,
   "metadata": {
    "id": "LgLma-JHbDfj"
   },
   "outputs": [],
   "source": [
    "def get_quantum_node(number_of_qubits: int, device_name: str):\n",
    "    # pennylane interface with torch requires a circuit function with a mandatory argument named 'inputs', and a sequence of optional\n",
    "    # arguments that will be the weights of the circuit. TorchLayer requires as argmuments the quantum node associated with the circuit\n",
    "    # and a dictionary containing the shape of each weight tensor.\n",
    "\n",
    "    dev = qml.device(device_name, wires=number_of_qubits)\n",
    "\n",
    "    @qml.qnode(dev, interface='torch')\n",
    "    def circuit(inputs, weights):\n",
    "\n",
    "        # data encoding\n",
    "\n",
    "        # ---- USEFUL TIPS -------------------------\n",
    "        # qml.templates contains many useful embedding schemes\n",
    "        # https://docs.pennylane.ai/en/stable/introduction/templates.html\n",
    "        # you can also define your own encoding functions\n",
    "        # but to keep it simple try to use only the following gates:\n",
    "        # Pauli gates/rotations, Hadamard, Controlled-X (CNOT)\n",
    "        # qml.X(wires=QUBIT_TO_FLIP)\n",
    "        # qml.RX(ANGLE_OF_ROTATION, wires=QUBIT_TO_ROTATE)\n",
    "        # qml.Hadamard(wires=QUBIT_TO_APPLY_HADAMARD)\n",
    "        # qml.CNOT(wires=[CONTROL, TARGET])\n",
    "        # ...\n",
    "\n",
    "\n",
    "        # variational gates\n",
    "        # ---- USEFUL TIPS -------------------------\n",
    "        # qml.templates contains also many useful variational circuits, such as\n",
    "        # StronglyEntanglingLayers, BasicEntanglerLayers, etc.\n",
    "        # https://docs.pennylane.ai/en/stable/introduction/templates.html\n",
    "        # you can also define your own variational circuits,\n",
    "        # but to keep it simple try to use only the following gates:\n",
    "        # Pauli gates/rotations, Hadamard, Controlled-X (CNOT)\n",
    "        # qml.X(wires=QUBIT_TO_FLIP)\n",
    "        # qml.RX(ANGLE_OF_ROTATION, wires=QUBIT_TO_ROTATE)\n",
    "        # qml.Hadamard(wires=QUBIT_TO_APPLY_HADAMARD)\n",
    "        # qml.CNOT(wires=[CONTROL, TARGET])\n",
    "        # ...\n",
    "\n",
    "        return qml.expval(qml.Z(0))\n",
    "\n",
    "    return circuit, { 'weights': None } # change here accordingly\n",
    "\n",
    "    # return circuit, { 'weight_1': None, 'weight_2': None, weight_n: None } # change here\n",
    "    return circuit, { 'weights': 1 } # change here\n",
    "\n",
    "class SineRegressor(nn.Module):\n",
    "    def __init__(self):\n",
    "        super(SineRegressor, self).__init__()\n",
    "\n",
    "        # self.preprocess = ... (optional)\n",
    "        circuit, shapes = get_quantum_node(1, 'default.qubit')\n",
    "        # circuit = qml.transforms.broadcast_expand(circuit)\n",
    "        self.quantum_layer = qml.qnn.TorchLayer(circuit, shapes) # a Pennylane TorchLayer\n",
    "        # self.output_head = ... (optional)\n",
    "\n",
    "    def forward(self, x):\n",
    "        # x = self.preprocess(x) (optional)\n",
    "        x = self.quantum_layer(x)\n",
    "        # x = self.output_head(x) (optional)\n",
    "        return x"
   ]
  },
  {
   "cell_type": "code",
   "execution_count": null,
   "metadata": {
    "id": "Gt9V-pCGbDfj"
   },
   "outputs": [],
   "source": [
    "team_name = 'team_name'\n",
    "score_tracker = ScoreTracker(team_name)"
   ]
  },
  {
   "cell_type": "code",
   "execution_count": null,
   "metadata": {
    "colab": {
     "base_uri": "https://localhost:8080/",
     "height": 384
    },
    "id": "3TUjCYZjbDfj",
    "outputId": "eb9c52d6-6503-4bfb-eda8-48bb3405477e"
   },
   "outputs": [],
   "source": [
    "batch_size = None # change\n",
    "feature_transforms = [] # change\n",
    "label_transforms = [] # change\n",
    "train_dataloader, val_dataloader, test_dataloader = get_dataloader(get_sine_datasets(feature_transformations=feature_transforms, label_transformations=label_transforms, split=True), batch_size=batch_size)\n",
    "model = SineRegressor()\n",
    "optimizer = optim.SGD(model.parameters(), lr=1e-3) # or Adam, AdamW, etc...\n",
    "criterion = nn.MSELoss()\n",
    "compute_accuracy = False\n",
    "epochs = 10\n",
    "validation_frequency = max([epochs // 5, 1])\n",
    "training_results = train_model(model, optimizer, criterion, compute_accuracy, train_dataloader, val_dataloader, test_dataloader, epochs, validation_frequency)\n",
    "plot_results(*training_results, validation_frequency, compute_accuracy)\n",
    "# submit score\n",
    "score_tracker.update_sine_score(training_results[-2])"
   ]
  },
  {
   "cell_type": "markdown",
   "metadata": {
    "id": "soUs6o62bDfk"
   },
   "source": [
    "## Exercise 2: `toy classification` dataset\n",
    "The goal is to increasae the classification accuracy as much as possbile"
   ]
  },
  {
   "cell_type": "code",
   "execution_count": null,
   "metadata": {
    "id": "EhCjWu6QbDfk"
   },
   "outputs": [],
   "source": [
    "def get_quantum_node(number_of_qubits: int, device_name: str):\n",
    "    # pennylane interface with torch requires a circuit function with a mandatory argument named 'inputs', and a sequence of optional\n",
    "    # arguments that will be the weights of the circuit. TorchLayer requires as argmuments the quantum node associated with the circuit\n",
    "    # and a dictionary containing the shape of each weight tensor.\n",
    "\n",
    "    dev = qml.device(device_name, wires=number_of_qubits)\n",
    "\n",
    "    @qml.qnode(dev, interface='torch')\n",
    "    def circuit(inputs, weights):\n",
    "\n",
    "        # data encoding\n",
    "\n",
    "        # ---- USEFUL TIPS -------------------------\n",
    "        # qml.templates contains many useful embedding schemes\n",
    "        # https://docs.pennylane.ai/en/stable/introduction/templates.html\n",
    "        # you can also define your own encoding functions\n",
    "        # but to keep it simple try to use only the following gates:\n",
    "        # Pauli gates/rotations, Hadamard, Controlled-X (CNOT)\n",
    "        # qml.X(wires=QUBIT_TO_FLIP)\n",
    "        # qml.RX(ANGLE_OF_ROTATION, wires=QUBIT_TO_ROTATE)\n",
    "        # qml.Hadamard(wires=QUBIT_TO_APPLY_HADAMARD)\n",
    "        # qml.CNOT(wires=[CONTROL, TARGET])\n",
    "        # ...\n",
    "\n",
    "\n",
    "        # variational gates\n",
    "        # ---- USEFUL TIPS -------------------------\n",
    "        # qml.templates contains also many useful variational circuits, such as\n",
    "        # StronglyEntanglingLayers, BasicEntanglerLayers, etc.\n",
    "        # https://docs.pennylane.ai/en/stable/introduction/templates.html\n",
    "        # you can also define your own variational circuits,\n",
    "        # but to keep it simple try to use only the following gates:\n",
    "        # Pauli gates/rotations, Hadamard, Controlled-X (CNOT)\n",
    "        # qml.X(wires=QUBIT_TO_FLIP)\n",
    "        # qml.RX(ANGLE_OF_ROTATION, wires=QUBIT_TO_ROTATE)\n",
    "        # qml.Hadamard(wires=QUBIT_TO_APPLY_HADAMARD)\n",
    "        # qml.CNOT(wires=[CONTROL, TARGET])\n",
    "        # ...\n",
    "\n",
    "        return qml.expval(qml.Z(0))\n",
    "\n",
    "    return circuit, { 'weights': None } # change here accordingly\n",
    "\n",
    "class QNNClassifier(nn.Module):\n",
    "    def __init__(self, number_of_qubits: int, local_repetitions: int):\n",
    "        super(QNNClassifier, self).__init__()\n",
    "\n",
    "        # self.preprocess = ... (optional)\n",
    "        circuit, shape = get_quantum_node(number_of_qubits, 'default.qubit', L=local_repetitions)\n",
    "        # circuit = qml.transforms.broadcast_expand(circuit) # uncomment if you want to use amplitude embedding mid-circuit\n",
    "        self.quantum_layer = qml.qnn.TorchLayer(circuit, shape) # a Pennylane TorchLayer\n",
    "        # self.output_head = ... (optional)\n",
    "\n",
    "    def forward(self, x):\n",
    "        # x = self.preprocess(x) (optional)\n",
    "        x = (self.quantum_layer(x) + 1) / 2 # convert output from [-1, 1] to [0, 1]\n",
    "        # x = self.output_head(x) (optional)\n",
    "        return x"
   ]
  },
  {
   "cell_type": "code",
   "execution_count": null,
   "metadata": {
    "id": "PsTos58GbDfk"
   },
   "outputs": [],
   "source": [
    "team_name = 'team_name'\n",
    "score_tracker = ScoreTracker(team_name)"
   ]
  },
  {
   "cell_type": "code",
   "execution_count": null,
   "metadata": {
    "id": "qC6jRJHUbDfl"
   },
   "outputs": [],
   "source": [
    "batch_size = None # change\n",
    "feature_transforms = [] # change\n",
    "label_transforms = [] # change\n",
    "train_dataloader, val_dataloader, test_dataloader = get_dataloader(get_toy_classification_datasets(feature_transformations=feature_transforms, label_transformations=label_transforms, split=True), batch_size=batch_size)\n",
    "model = QNNClassifier(number_of_qubits=3, local_repetitions=3) # define your model\n",
    "optimizer = optim.SGD(model.parameters(), lr=1e-3) # or Adam, AdamW, etc...\n",
    "criterion = nn.BCELoss()\n",
    "compute_accuracy = True\n",
    "epochs = 20\n",
    "validation_frequency = max(epochs // 10, 1)\n",
    "training_results = train_model(model, optimizer, criterion, compute_accuracy, train_dataloader, val_dataloader, test_dataloader, epochs, validation_frequency)\n",
    "plot_results(*training_results, validation_frequency, compute_accuracy)\n",
    "# submit score\n",
    "score_tracker.update_classification_score(training_results[-1].item())"
   ]
  },
  {
   "cell_type": "markdown",
   "metadata": {
    "id": "s4dyW9ktbDfl"
   },
   "source": [
    "## Exercise 3: `polluttions` dataset\n",
    "The goal is to reduce the Mean Square Error (MSE) as much as possbile"
   ]
  },
  {
   "cell_type": "code",
   "execution_count": null,
   "metadata": {
    "id": "0ocHnGZjbDfl"
   },
   "outputs": [],
   "source": [
    "def get_quantum_node(number_of_qubits: int, device_name: str):\n",
    "    # pennylane interface with torch requires a circuit function with a mandatory argument named 'inputs', and a sequence of optional\n",
    "    # arguments that will be the weights of the circuit. TorchLayer requires as argmuments the quantum node associated with the circuit\n",
    "    # and a dictionary containing the shape of each weight tensor.\n",
    "\n",
    "    dev = qml.device(device_name, wires=number_of_qubits)\n",
    "\n",
    "    @qml.qnode(dev, interface='torch')\n",
    "    def circuit(inputs, weights):\n",
    "\n",
    "        # data encoding\n",
    "\n",
    "        # ---- USEFUL TIPS -------------------------\n",
    "        # qml.templates contains many useful embedding schemes\n",
    "        # https://docs.pennylane.ai/en/stable/introduction/templates.html\n",
    "        # you can also define your own encoding functions\n",
    "        # but to keep it simple try to use only the following gates:\n",
    "        # Pauli gates/rotations, Hadamard, Controlled-X (CNOT)\n",
    "        # qml.X(wires=QUBIT_TO_FLIP)\n",
    "        # qml.RX(ANGLE_OF_ROTATION, wires=QUBIT_TO_ROTATE)\n",
    "        # qml.Hadamard(wires=QUBIT_TO_APPLY_HADAMARD)\n",
    "        # qml.CNOT(wires=[CONTROL, TARGET])\n",
    "        # ...\n",
    "\n",
    "\n",
    "        # variational gates\n",
    "        # ---- USEFUL TIPS -------------------------\n",
    "        # qml.templates contains also many useful variational circuits, such as\n",
    "        # StronglyEntanglingLayers, BasicEntanglerLayers, etc.\n",
    "        # https://docs.pennylane.ai/en/stable/introduction/templates.html\n",
    "        # you can also define your own variational circuits,\n",
    "        # but to keep it simple try to use only the following gates:\n",
    "        # Pauli gates/rotations, Hadamard, Controlled-X (CNOT)\n",
    "        # qml.X(wires=QUBIT_TO_FLIP)\n",
    "        # qml.RX(ANGLE_OF_ROTATION, wires=QUBIT_TO_ROTATE)\n",
    "        # qml.Hadamard(wires=QUBIT_TO_APPLY_HADAMARD)\n",
    "        # qml.CNOT(wires=[CONTROL, TARGET])\n",
    "        # ...\n",
    "\n",
    "        return qml.expval(qml.Z(0))\n",
    "\n",
    "    return circuit, { 'weights': None } # change here accordingly\n",
    "\n",
    "class PMRegressor(nn.Module):\n",
    "    def __init__(self, number_of_qubits: int, local_reps: int):\n",
    "        super(PMRegressor, self).__init__()\n",
    "\n",
    "        # self.preprocess = ... (optional)\n",
    "        circuit, shapes = get_quantum_node(number_of_qubits, 'lightning.qubit')\n",
    "        # circuit = qml.transforms.broadcast_expand(circuit) # uncomment if you want to use amplitude embedding mid-circuit\n",
    "        self.quantum_layer = qml.qnn.TorchLayer(circuit, shapes) # a Pennylane TorchLayer\n",
    "        # self.output_head = ... (optional)\n",
    "\n",
    "    def forward(self, x):\n",
    "        # x = self.preprocess(x) (optional)\n",
    "        x = self.quantum_layer(x) * torch.pi / 2\n",
    "        # x = self.output_head(x) (optional)\n",
    "        return x"
   ]
  },
  {
   "cell_type": "code",
   "execution_count": null,
   "metadata": {
    "id": "vSGIzEbnbDfm"
   },
   "outputs": [],
   "source": [
    "team_name = 'team_name'\n",
    "score_tracker = ScoreTracker(team_name)"
   ]
  },
  {
   "cell_type": "code",
   "execution_count": null,
   "metadata": {
    "id": "meLm0UucbDfm"
   },
   "outputs": [],
   "source": [
    "batch_size = None # change\n",
    "feature_transforms = [] # change\n",
    "label_transforms = [] # change\n",
    "train_dataloader, val_dataloader, test_dataloader = get_dataloader(get_pollution_datasets(feature_transformations=feature_transforms, label_transformations=label_transforms, split=True), batch_size=batch_size)\n",
    "model = PMRegressor(...) # None # define your model\n",
    "optimizer = optim.SGD(model.parameters(), lr=1e-3)\n",
    "criterion = nn.MSELoss() # MSE Loss\n",
    "compute_accuracy = False\n",
    "epochs = 20\n",
    "validation_frequency = max(epochs // 10, 1)\n",
    "training_results = train_model(model, optimizer, criterion, compute_accuracy, train_dataloader, val_dataloader, test_dataloader, epochs, validation_frequency)\n",
    "plot_results(*training_results, validation_frequency, compute_accuracy)\n",
    "\n",
    "# submit score\n",
    "score_tracker.update_pm_score(training_results[-2])"
   ]
  },
  {
   "cell_type": "code",
   "execution_count": null,
   "metadata": {
    "id": "qCLuOQuc5BAA"
   },
   "outputs": [],
   "source": []
  }
 ],
 "metadata": {
  "colab": {
   "provenance": [],
   "toc_visible": true
  },
  "kernelspec": {
   "display_name": "stations",
   "language": "python",
   "name": "python3"
  },
  "language_info": {
   "codemirror_mode": {
    "name": "ipython",
    "version": 3
   },
   "file_extension": ".py",
   "mimetype": "text/x-python",
   "name": "python",
   "nbconvert_exporter": "python",
   "pygments_lexer": "ipython3",
   "version": "3.10.13"
  }
 },
 "nbformat": 4,
 "nbformat_minor": 0
}
